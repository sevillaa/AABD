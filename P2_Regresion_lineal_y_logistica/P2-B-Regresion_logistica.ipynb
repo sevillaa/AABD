{
 "cells": [
  {
   "cell_type": "markdown",
   "metadata": {},
   "source": [
    "# P2 B - Regresión Logística\n",
    "Hecho por:\n",
    "- Jaime Benedi\n",
    "- Miguel Sevilla"
   ]
  },
  {
   "cell_type": "markdown",
   "metadata": {},
   "source": [
    "El hecho de si hay riesgo cardiovascular depende de diversos factores como por ejemplo la presión arterial y el colesterol.\n",
    "1. Genera un dataset sintético que va a contener 800 instancias que representen personas. Cada persona va a tener los siguientes atributos:\n",
    "    - Valores de presión arterial y colesterol. Ten en cuenta que el nivel normal de colesterol se considera por debajo de 180, aunque puede variar entre 120 y 250, y el nivel normal de presión arterial sistólica se encuentra entre 100 y 120, aunque puede variar entre 70 y 180.\n",
    "    - Valores aleatorios de otro atributo que simule otros datos de la persona (pueden ser inventado).\n",
    "2. Para cada instancia, calcula la probabilidad de tener problemas vasculares. Ten en cuenta las consideraciones sobre los valores de presión arterial y colesterol.\n",
    "3. En base a un umbral, para cada instancia (teniendo en cuenta la probabilidad calculada en el punto 2), determina la clase de tener riesgo cardiovascular (1) o no (0)."
   ]
  },
  {
   "cell_type": "markdown",
   "metadata": {},
   "source": [
    "## Librerías a usar"
   ]
  },
  {
   "cell_type": "code",
   "execution_count": 1,
   "metadata": {},
   "outputs": [],
   "source": [
    "from sklearn.linear_model import LogisticRegression\n",
    "import matplotlib.pyplot as plt\n",
    "import numpy as np"
   ]
  },
  {
   "cell_type": "markdown",
   "metadata": {},
   "source": [
    "## Generación de datos"
   ]
  },
  {
   "cell_type": "markdown",
   "metadata": {},
   "source": [
    "Definiremos la generación de datos para las variables de presión arterial, colesterol e índice de grasa corporal (elegida por nosotros). El riesgo de enfermedad cardiovascular vendrá dado por la tenencia de mínimo un riesgo entre todas las variables. La generación de datos se hará por:"
   ]
  },
  {
   "cell_type": "code",
   "execution_count": 2,
   "metadata": {},
   "outputs": [],
   "source": [
    "def genDataset(\n",
    "    minPres : float,\n",
    "    maxPres : float, \n",
    "    avgPres : float,\n",
    "    funcPres,\n",
    "    minCol : float,\n",
    "    maxCol : float, \n",
    "    avgCol : float,\n",
    "    funcCol,\n",
    "    minOther : float,\n",
    "    maxOther : float, \n",
    "    avgOther : float,\n",
    "    funcOther,\n",
    "    size: int\n",
    ") -> tuple[np.ndarray, np.ndarray, np.ndarray, np.ndarray]:\n",
    "    \n",
    "    xPres = np.random.normal(avgPres, (maxPres - minPres)/avgPres, size)\n",
    "    xCol = np.random.normal(avgCol, (maxCol - minCol)/avgCol, size)\n",
    "    xOther = np.random.normal(avgOther, (maxOther - minOther)/avgOther, size)\n",
    "    \n",
    "    y = np.zeros(size, int)\n",
    "    \n",
    "    for i in range(size) :\n",
    "        if (funcPres(xPres[i]) or funcCol(xCol[i]) or funcOther(xOther[i])) :\n",
    "            y[i] = 1\n",
    "            \n",
    "    return xPres, xCol, xOther, y"
   ]
  },
  {
   "cell_type": "markdown",
   "metadata": {},
   "source": [
    "Donde los criterios vienen dados por:"
   ]
  },
  {
   "cell_type": "code",
   "execution_count": 3,
   "metadata": {},
   "outputs": [],
   "source": [
    "def arterial_pressure_risk(x) -> bool:\n",
    "    if x < 100 or x > 120:\n",
    "        return True\n",
    "    else :\n",
    "        return False\n",
    "    \n",
    "def colestherol_risk(x) -> bool:\n",
    "    if x >= 180 :\n",
    "        return True\n",
    "    else: \n",
    "        return False\n",
    "    \n",
    "def fat_index_risk(x) -> bool:\n",
    "    if x > 0.25 :\n",
    "        return True\n",
    "    else :\n",
    "        return False"
   ]
  },
  {
   "cell_type": "code",
   "execution_count": null,
   "metadata": {},
   "outputs": [],
   "source": [
    "(miniP, maxiP, avgP) = (70, 180, 110)\n",
    "(miniC, maxiC, avgC) = (120, 250, 180)\n",
    "(miniF, maxiF, avgF) = (0.10, 0.5, 0.2)"
   ]
  },
  {
   "cell_type": "markdown",
   "metadata": {},
   "source": [
    "## Regresión Logística"
   ]
  },
  {
   "cell_type": "code",
   "execution_count": null,
   "metadata": {},
   "outputs": [],
   "source": [
    "modelo = LogisticRegression()"
   ]
  },
  {
   "cell_type": "code",
   "execution_count": null,
   "metadata": {},
   "outputs": [],
   "source": [
    "xP, xC, xF, y = genDataset(miniP, maxiP, avgP, arterial_pressure_risk, miniC, maxiC, avgC, colestherol_risk, miniF, maxiF, avgF, fat_index_risk)"
   ]
  }
 ],
 "metadata": {
  "kernelspec": {
   "display_name": "Python 3",
   "language": "python",
   "name": "python3"
  },
  "language_info": {
   "codemirror_mode": {
    "name": "ipython",
    "version": 3
   },
   "file_extension": ".py",
   "mimetype": "text/x-python",
   "name": "python",
   "nbconvert_exporter": "python",
   "pygments_lexer": "ipython3",
   "version": "3.12.9"
  }
 },
 "nbformat": 4,
 "nbformat_minor": 2
}
