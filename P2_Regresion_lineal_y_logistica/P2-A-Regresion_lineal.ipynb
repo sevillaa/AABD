{
 "cells": [
  {
   "cell_type": "markdown",
   "metadata": {},
   "source": [
    "# P2 - Regresión Lineal\n",
    "Hecho por:\n",
    "- Jaime Benedi\n",
    "- Miguel Sevilla"
   ]
  },
  {
   "cell_type": "markdown",
   "metadata": {},
   "source": [
    "En una secuencia de tiempo de 1 minuto, tenemos una pulsera inteligente que mide la frecuencia\n",
    "cardiaca (FC). Nos gustaría saber cuál es la regresión lineal de dichos pares tiempo y FC para saber en\n",
    "qué medida están incrementando los valores o disminuyendo.\n",
    "El primer paso será generar los datos realistas a partir de un coeficiente y una variación aleatoria. Para\n",
    "ello, se debe generar un array “x” con los instantes de tiempos (i.e. de 1 a 60, representando los\n",
    "segundos de un minuto) y un array “y” con las frecuencias cardiacas para dichos tiempos. Por ejemplo,\n",
    "podrías usar la siguiente fórmula, pero también es bueno que pruebas con otras fórmulas:\n",
    "Y = 0.7*x + 60 + <número aleatorio entre -5.9 y +5.9>\n",
    "Para generar “x” puedes usar función “arange(inicio, fin)” de “numpy”. Para generar “y” puedes usar\n",
    "operaciones matemáticas sobre array y la operación “random.uniform(inicio, fin)” para generar los\n",
    "números aleatorios. Se puede implementar en un método llamado “generarDatosFC” que devuelva\n",
    "una secuencia “x, y”.\n",
    "El segundo paso será implementar una función que realice toda esta parte de la práctica: que tome\n",
    "estos datos generados y que haga lo siguiente.\n",
    "- Adaptar los datos de entrada X para la entrada LinearRegression. En la x, se necesita [[1],\n",
    "[2], …] en vez de [1, 2, …]. Se puede hacer con las “List Comprehensions”.\n",
    "- Obtener el coeficiente de la función lineal aprendida y la parte independiente (i.e.\n",
    "intercept), y mostrarlos por pantalla.\n",
    "- Obener los datos “y” (e.g. “yLinealResult”) de la función lineal aprendida.\n",
    "- Usar Matplotlib para mostrar los puntos de mediciones de FC generados y la función lineal\n",
    "aprendida.\n",
    "Un ejemplo de salida podría ser lo siguiente:\n",
    "Coefficients: [0.70915241] Intercept:\n",
    "59.47330187403128\n",
    "Se observará en qué medida se puede estimar\n",
    "apropiadamente la regresión lineal, comparando\n",
    "los valores usados para la generación y los valores\n",
    "aprendidos en la regresión lineal.\n",
    "Explora otras cualidades de LinearRegression y\n",
    "comenta los atributos que más te han llamado la\n",
    "atención"
   ]
  },
  {
   "cell_type": "markdown",
   "metadata": {},
   "source": [
    "## Librerías a usar"
   ]
  },
  {
   "cell_type": "code",
   "execution_count": 11,
   "metadata": {},
   "outputs": [],
   "source": [
    "from sklearn.linear_model import LinearRegression\n",
    "import matplotlib.pyplot as plt\n",
    "import numpy as np"
   ]
  },
  {
   "cell_type": "markdown",
   "metadata": {},
   "source": [
    "## Generación de datos"
   ]
  },
  {
   "cell_type": "code",
   "execution_count": 12,
   "metadata": {},
   "outputs": [],
   "source": [
    "def example1FC(x:np.ndarray) -> np.ndarray:\n",
    "    return 0.7*x + 60 + np.random.normal(0, 5, x.size)"
   ]
  },
  {
   "cell_type": "code",
   "execution_count": 13,
   "metadata": {},
   "outputs": [],
   "source": [
    "def generarDatosFC(minTiempo : float, maxTiempo : float, func) -> tuple[np.ndarray, np.ndarray] :\n",
    "    x = np.arange(minTiempo, maxTiempo)\n",
    "    return x, func(x)"
   ]
  },
  {
   "cell_type": "code",
   "execution_count": 14,
   "metadata": {},
   "outputs": [
    {
     "name": "stdout",
     "output_type": "stream",
     "text": [
      "[ 1  2  3  4  5  6  7  8  9 10 11 12 13 14 15 16 17 18 19 20 21 22 23 24\n",
      " 25 26 27 28 29 30 31 32 33 34 35 36 37 38 39 40 41 42 43 44 45 46 47 48\n",
      " 49 50 51 52 53 54 55 56 57 58 59]\n",
      "[ 62.27532506  54.4184528   66.73274956  54.83706878  61.44761337\n",
      "  58.66934868  64.56141871  57.62245333  59.97261236  70.47110209\n",
      "  72.96044768  59.37020787  61.91478285  63.48994272  72.13698553\n",
      "  68.93909565  81.2272425   67.18802657  70.85816233  74.28433331\n",
      "  74.60799432  70.60676091  70.01360832  88.14029621  78.23910191\n",
      "  73.45930938  79.63707475  81.82727301  81.34510045  81.10102623\n",
      "  87.31372544  77.9742145   85.59145427  84.81877103  86.11975868\n",
      "  90.42591455  79.3749282   78.65271658  88.46817084  90.81096449\n",
      "  92.49506506  99.3788442   98.11361934  86.98455267  91.86204574\n",
      "  92.65186564  89.85547528  99.00801505 102.00210757  92.49540096\n",
      "  81.96076562  91.91811289  96.25755911  99.63453452 103.20423243\n",
      "  94.71790428  92.33085856 100.48734761 102.45982224]\n"
     ]
    }
   ],
   "source": [
    "x, y = generarDatosFC(1, 60, example1FC)\n",
    "print(x)\n",
    "print(y)"
   ]
  },
  {
   "cell_type": "code",
   "execution_count": 15,
   "metadata": {},
   "outputs": [
    {
     "name": "stdout",
     "output_type": "stream",
     "text": [
      "[[1], [2], [3], [4], [5], [6], [7], [8], [9], [10], [11], [12], [13], [14], [15], [16], [17], [18], [19], [20], [21], [22], [23], [24], [25], [26], [27], [28], [29], [30], [31], [32], [33], [34], [35], [36], [37], [38], [39], [40], [41], [42], [43], [44], [45], [46], [47], [48], [49], [50], [51], [52], [53], [54], [55], [56], [57], [58], [59]]\n"
     ]
    }
   ],
   "source": [
    "xEnlisted = [[i] for i in x]\n",
    "print(xEnlisted)"
   ]
  },
  {
   "cell_type": "markdown",
   "metadata": {},
   "source": [
    "## Regresión Lineal"
   ]
  },
  {
   "cell_type": "code",
   "execution_count": 16,
   "metadata": {},
   "outputs": [
    {
     "name": "stdout",
     "output_type": "stream",
     "text": [
      "Coeficiente de la función lineal:  [0.74400548]\n",
      "Ordenada al origen:  58.01413488173558\n",
      "R^2:  0.8561938977302324\n"
     ]
    }
   ],
   "source": [
    "modelo = LinearRegression()\n",
    "modelo.fit(xEnlisted, y)\n",
    "modelo.intercept_, modelo.coef_\n",
    "print(\"Coeficiente de la función lineal: \", modelo.coef_)\n",
    "print(\"Ordenada al origen: \", modelo.intercept_)\n",
    "print(\"R^2: \", modelo.score(xEnlisted, y))"
   ]
  },
  {
   "cell_type": "code",
   "execution_count": 18,
   "metadata": {},
   "outputs": [
    {
     "data": {
      "image/png": "[encoded data removed]",
      "text/plain": [
       "<Figure size 640x480 with 1 Axes>"
      ]
     },
     "metadata": {},
     "output_type": "display_data"
    }
   ],
   "source": [
    "yLinealResultado = modelo.predict(xEnlisted)\n",
    "plt.scatter(x, y)\n",
    "plt.plot(x, yLinealResultado, color='cyan')\n",
    "plt.show()"
   ]
  }
 ],
 "metadata": {
  "kernelspec": {
   "display_name": "Python 3",
   "language": "python",
   "name": "python3"
  },
  "language_info": {
   "codemirror_mode": {
    "name": "ipython",
    "version": 3
   },
   "file_extension": ".py",
   "mimetype": "text/x-python",
   "name": "python",
   "nbconvert_exporter": "python",
   "pygments_lexer": "ipython3",
   "version": "3.12.9"
  }
 },
 "nbformat": 4,
 "nbformat_minor": 2
}
