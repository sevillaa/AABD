{
 "cells": [
  {
   "cell_type": "markdown",
   "metadata": {},
   "source": [
    "# Práctica 1: Aprendizaje Automático\n",
    "## Parte A: Análisis y procesamiento de un dataset\n",
    "Hecho por:\n",
    "- Jaime Benedí\n",
    "- Miguel Sevilla"
   ]
  },
  {
   "cell_type": "markdown",
   "metadata": {},
   "source": [
    "En esta parte usaremos el dataset titanic.csv. Este dataset contiene los siguientes atributos:"
   ]
  },
  {
   "cell_type": "markdown",
   "metadata": {},
   "source": [
    "|  **Nombre** |                                  **Descripción**                                 |                       **Tipo**                      |\n",
    "|:-----------:|:--------------------------------------------------------------------------------:|:---------------------------------------------------:|\n",
    "| PassengerId | Identificador único de cada pasajero                                             | Numérico                                            |\n",
    "| Survived    | Indica si sobrevivió (1) o no (0)                                                | Binario                                             |\n",
    "| Pclass      | Clase del billete del pasajero                                                   | {1=Primera Clase, 2=Segunda clase, 3=Tercera clase} |\n",
    "| Name        | Nombre completo del pasajero                                                     | Texto                                               |\n",
    "| Sex         | Género del pasajero                                                              | {male, female}                                      |\n",
    "| Age         | Edad del pasajero en años. Puede contener valores nulos                          | Numérico                                            |\n",
    "| SibSp       | Número de hermanos o cónyuges que viajaban con el pasajero                       | Numérico                                            |\n",
    "| Parch       | Número de padres o hijos que viajaban con el pasajero                            | Numérico                                            |\n",
    "| Ticket      | Código del billete del pasajero.                                                 | Texto                                               |\n",
    "| Fare        | Tarifa pagada por el billete                                                     | Numérico                                            |\n",
    "| Cabin       | Número de la cabina en la que se alojó el pasajero. Puede contener valores nulos | Texto                                               |\n",
    "| Embarked    | Puerto en el que el pasajero abordó el Titanic                                   | {C=Cherburgo,Q=Queenstown,S=Southampton}            |"
   ]
  },
  {
   "cell_type": "markdown",
   "metadata": {},
   "source": [
    "## Objetivos\n",
    "Sobre este dataset, hay que realizar las siguientes tareas:\n",
    "1. Carga el dataset a analizar en la parte A (titanic.csv) con pandas y elimina los valores nulos y duplicados. ¿Cuántas filas se han borrado? ¿En qué beneficia su eliminación? Con reset_index resetea los índices para evitar problemas en los ejercicios siguientes.\n",
    " \n",
    "2. Antes de empezar, determina si hay algún atributo no nos va a resultar útil y por qué.\n",
    "\n",
    "3. Relaciones entre atributos: dibuja diagramas de dispersión y calcula coeficientes de correlación. ¿Cuáles son los atributos que están más relacionados y qué podemos interpretar?\n",
    "\n",
    "4. Atributos numéricos:\n",
    "   1. Calcula media, desviación típica, valores mínimos, máximos, etc. de los atributos numéricos. Describe estos valores para cada variable.\n",
    "\n",
    "5. Atributos categóricos:\n",
    "   1. Dibuja histogramas, diagramas de barras o de tartas para determinar las frecuencias de los valores de los atributos categóricos. Indica el número de valores distintos para cada atributo y el valor más frecuente para cada atributo. ¿Qué atributos están balanceados y cuáles no?\n",
    "\n",
    "6. Determina si hay outliers. Fíjate en las gráficas y descripciones que has empezado antes.\n",
    "\n",
    "7. Convierte los atributos categóricos en valores numéricos usando OneHotEncoder (o getdummies) y LabelEnconder. Observa las diferencias y discute cuál sería la mejor opción cuando el dataset sea usado en un modelo de IA.\n",
    "\n",
    "8. Normaliza y estandariza el dataset. Observa los resultados. Discute qué opción sería mejor usar.\n"
   ]
  }
 ],
 "metadata": {
  "language_info": {
   "name": "python"
  }
 },
 "nbformat": 4,
 "nbformat_minor": 2
}
