{
 "cells": [
  {
   "cell_type": "markdown",
   "id": "48af326c-1132-4ac4-82ba-a796cca262b2",
   "metadata": {},
   "source": [
    "# Práctica 3 sobre Redes Neuronales y Deep Learning\n",
    "\n",
    "Hecho por:\n",
    "- Jaime Benedi\n",
    "- Miguel Sevilla\n"
   ]
  },
  {
   "cell_type": "markdown",
   "id": "a6cdf058-bd4e-4ef6-96c4-31a685c0f2f6",
   "metadata": {},
   "source": [
    "## Perceptrón multicapa"
   ]
  },
  {
   "cell_type": "markdown",
   "id": "a41d6744-cd4f-40b7-a54b-63c07019397a",
   "metadata": {},
   "source": [
    "Hay que generar unos datos sobre conjuntos de puntos con valores de presión arterial y colesterol,\n",
    "clasificando entre tener riesgo cardiovascular (1) o no (0), como hicimos en la práctica anterior."
   ]
  },
  {
   "cell_type": "markdown",
   "id": "afa1fb10-1b10-4b59-ba42-ae95460a7134",
   "metadata": {},
   "source": [
    "1. Genera una gran cantidad de puntos aleatorios (presión arterial y colesterol) y muestra los\n",
    "resultados en una gráfica, utilizando diferentes dibujos para cada punto."
   ]
  },
  {
   "cell_type": "code",
   "execution_count": null,
   "id": "a761d55a-4b3d-4ce4-afa7-106de8819266",
   "metadata": {},
   "outputs": [],
   "source": []
  },
  {
   "cell_type": "markdown",
   "id": "2221f404-73bb-4c5d-8e16-415526054aa8",
   "metadata": {},
   "source": [
    "2. Divide el conjunto de datos en entrenamiento y evaluación como consideres."
   ]
  },
  {
   "cell_type": "code",
   "execution_count": null,
   "id": "5f6da637-c625-4175-a05f-a90e4b0fa480",
   "metadata": {},
   "outputs": [],
   "source": []
  },
  {
   "cell_type": "markdown",
   "id": "b1414977-b4d5-457e-aca2-5c398b159c70",
   "metadata": {},
   "source": [
    "3. Entrena una red neuronal con el conjunto de entrenamiento."
   ]
  },
  {
   "cell_type": "code",
   "execution_count": null,
   "id": "78e12335-46fe-4f0e-be7b-b20a7aef9f77",
   "metadata": {},
   "outputs": [],
   "source": []
  },
  {
   "cell_type": "markdown",
   "id": "fd3d0118-be6b-4a09-bee0-81dc6efdb33b",
   "metadata": {},
   "source": [
    "4. Aplica el modelo entrenado sobre el conjunto de evaluación"
   ]
  },
  {
   "cell_type": "code",
   "execution_count": null,
   "id": "15c2272b-b9bb-4190-bd75-e737ba092db3",
   "metadata": {},
   "outputs": [],
   "source": []
  },
  {
   "cell_type": "markdown",
   "id": "dd75c81a-5a9b-4dfe-b1a8-4dee51d60223",
   "metadata": {},
   "source": [
    "5. Muestra los resultados aplicados sobre el conjunto de evaluación. Se puede mostrar una\n",
    "gráfica como la anterior: puntos (presión arterial y colesterol) y su clasificación con MLP\n",
    "pintado de diversa manera (e.g. “x” o círculos)."
   ]
  },
  {
   "cell_type": "code",
   "execution_count": null,
   "id": "14eab2d3-e7f6-4a73-abe9-63ab12a81368",
   "metadata": {},
   "outputs": [],
   "source": []
  },
  {
   "cell_type": "markdown",
   "id": "2b30035c-f55e-46df-b1e2-05e9528ed1c7",
   "metadata": {},
   "source": [
    "6. Usa las métricas precisión y recall estudiadas en clase para evaluar la clasificación"
   ]
  },
  {
   "cell_type": "code",
   "execution_count": null,
   "id": "5fab0379-d8cf-40bc-803a-eb9b8de02bf2",
   "metadata": {},
   "outputs": [],
   "source": []
  },
  {
   "cell_type": "markdown",
   "id": "c70f061f-2174-47c9-88b8-cb9fde0b75f4",
   "metadata": {},
   "source": [
    "7. Para evitar “overfitting” habría que entrenar y validar los datos con conjuntos diferentes y con\n",
    "configuraciones de la red distintas. Prueba a mejorar la precisión de la red neuronal\n",
    "cambiando algunos de sus parámetros que has aprendido y haciendo distintas particiones del\n",
    "dataset. Se deben probar al menos dos configuraciones distintas."
   ]
  },
  {
   "cell_type": "code",
   "execution_count": null,
   "id": "55caa67e-c868-4105-8ae3-dd35670e45f2",
   "metadata": {},
   "outputs": [],
   "source": []
  },
  {
   "cell_type": "markdown",
   "id": "bafcc51c-a9cc-49dc-9bd2-2ab8d21dc999",
   "metadata": {},
   "source": [
    "8. Calcula la precisión para cada una de las configuraciones realizadas en el punto anterior.\n",
    "Dibuja también sus gráficas."
   ]
  },
  {
   "cell_type": "code",
   "execution_count": null,
   "id": "c84c92dc-9870-4a91-a4fb-f8b6e3b457b1",
   "metadata": {},
   "outputs": [],
   "source": []
  },
  {
   "cell_type": "markdown",
   "id": "a42f3606-4210-43d7-9639-8084579754c6",
   "metadata": {},
   "source": [
    "9. Discute los resultados y determina cuál es la mejor configuración de todas las estudiadas."
   ]
  },
  {
   "cell_type": "code",
   "execution_count": null,
   "id": "13c86e3b-66c8-4d22-8389-35ac56f9251f",
   "metadata": {},
   "outputs": [],
   "source": []
  }
 ],
 "metadata": {
  "kernelspec": {
   "display_name": "Python 3 (ipykernel)",
   "language": "python",
   "name": "python3"
  },
  "language_info": {
   "codemirror_mode": {
    "name": "ipython",
    "version": 3
   },
   "file_extension": ".py",
   "mimetype": "text/x-python",
   "name": "python",
   "nbconvert_exporter": "python",
   "pygments_lexer": "ipython3",
   "version": "3.12.8"
  }
 },
 "nbformat": 4,
 "nbformat_minor": 5
}
