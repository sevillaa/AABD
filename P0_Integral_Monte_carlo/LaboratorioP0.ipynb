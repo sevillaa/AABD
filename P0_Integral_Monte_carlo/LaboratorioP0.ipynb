{
 "cells": [
  {
   "cell_type": "code",
   "execution_count": 8,
   "id": "7e3cd9c2-8c30-4d81-b9fc-85daf3a23565",
   "metadata": {},
   "outputs": [],
   "source": [
    "import numpy as np\n",
    "import matplotlib.pyplot as plt\n",
    "import random\n",
    "from scipy.integrate import quad\n",
    "import time\n",
    "import numpy as np"
   ]
  },
  {
   "cell_type": "code",
   "execution_count": 9,
   "id": "4ec57bad-5539-4352-8cc9-10ce9baea7ba",
   "metadata": {},
   "outputs": [],
   "source": [
    "import matplotlib.pyplot as plt\n",
    "import random\n",
    "from scipy.integrate import quad\n",
    "\n",
    "def integra_mc_sin_numpy(fun, a, b, num_puntos=1000000):\n",
    "\n",
    "    # 1- Calcular el valor maximo de la función en el intervalo [a, b]\n",
    "    y_max = max(fun(x) for x in [i / 100 for i in range(int(a * 100), int(b * 100) + 1)])\n",
    "    \n",
    "\n",
    "    # 2- Generar puntos aleatorios\n",
    "    x = [random.uniform(a, b) for _ in range(num_puntos)]\n",
    "    y = [random.uniform(0, y_max) for _ in range(num_puntos)]\n",
    "\n",
    "    # 3- Contar puntos debajo de la función\n",
    "    puntos_debajo = sum(\n",
    "        1 for x_i, y_i in zip(x, y) if y_i <= fun(x_i)\n",
    "    )\n",
    "  \n",
    "\n",
    "    # 4- Calcular la integral aproximada\n",
    "    area_rectangulo = (b - a) * y_max\n",
    "    integral_aproximada = (puntos_debajo / num_puntos) * area_rectangulo"
   ]
  },
  {
   "cell_type": "code",
   "execution_count": 10,
   "id": "02559a0a-4c2e-40f2-b330-baeb40e28e36",
   "metadata": {},
   "outputs": [],
   "source": [
    "import numpy as np\n",
    "import matplotlib.pyplot as plt\n",
    "\n",
    "def integra_mc_con_numpy(fun, a, b, num_puntos=1000000):\n",
    "    \n",
    "    #Defino las x\n",
    "    x = np.random.uniform(a, b, num_puntos)\n",
    "    #ARRAYS de numpy + eficientes que listas\n",
    "    \n",
    "    #Para cada valor de x buscas su \"y\"  \n",
    "    y_fun = fun(x)\n",
    "    \n",
    "    # Encontrar el máximo de la función en los puntos x\n",
    "    max1 = np.max(y_fun)\n",
    "    \n",
    "    #Defino y aleatorias para dibujar las cruces\n",
    "    y = np.random.uniform(0, max1, num_puntos)\n",
    "    \n",
    "    # Contar cuántos puntos están por debajo de la función\n",
    "    puntos_debajo = np.sum(y <= y_fun)\n",
    "    \n",
    "    # Calcular el área del rectángulo\n",
    "    area_rectangulo = (b - a) * max1\n",
    "    \n",
    "    # Calcular la integral aproximada\n",
    "    integral_aproximada = (puntos_debajo / num_puntos) * area_rectangulo"
   ]
  },
  {
   "cell_type": "code",
   "execution_count": 11,
   "id": "cdd16081-d7cf-437c-8ba5-7c0900dd8f61",
   "metadata": {},
   "outputs": [],
   "source": [
    "def compara_tiempos_dot(fun1,fun2,a,b,computeFunction):\n",
    "    sizes = np.linspace(100, 10000000, 20,dtype=int)\n",
    "    times_dot = []\n",
    "    times_fast_dot = []\n",
    "    \n",
    "    for size in sizes:\n",
    "        tic = time.process_time()\n",
    "        dot = integra_mc_sin_numpy(computeFunction, a,b,size)\n",
    "        toc = time.process_time()\n",
    "        times_dot += [1000 * (toc - tic)]\n",
    "\n",
    "        tic = time.process_time()\n",
    "        fast_dot = integra_mc_con_numpy(computeFunction, a,b,size)\n",
    "        toc = time.process_time()\n",
    "        times_fast_dot += [1000 * (toc - tic)]\n",
    "        \n",
    "    plt.figure()\n",
    "    plt.scatter(sizes, times_dot, c='red', label='bucle')\n",
    "    plt.scatter(sizes, times_fast_dot, c='blue', label='vector')\n",
    "    plt.legend()\n",
    "    plt.savefig('comparatiemposdot.png')"
   ]
  },
  {
   "cell_type": "code",
   "execution_count": 12,
   "id": "22214f56-ae4b-4368-96ab-cc0cf4f9043a",
   "metadata": {},
   "outputs": [
    {
     "data": {
      "image/png": "[encoded data removed]",
      "text/plain": [
       "<Figure size 640x480 with 1 Axes>"
      ]
     },
     "metadata": {},
     "output_type": "display_data"
    }
   ],
   "source": [
    "expr1 = (lambda x: x**2 + 1)  # funcion a integrar\n",
    "expr2 = (lambda x: np.sin(x) + 2)\n",
    "a, b = 0, 10  # limites del intervalo\n",
    "\n",
    "compara_tiempos_dot(integra_mc_sin_numpy, integra_mc_con_numpy, a, b, expr2)"
   ]
  }
 ],
 "metadata": {
  "kernelspec": {
   "display_name": "Python 3",
   "language": "python",
   "name": "python3"
  },
  "language_info": {
   "codemirror_mode": {
    "name": "ipython",
    "version": 3
   },
   "file_extension": ".py",
   "mimetype": "text/x-python",
   "name": "python",
   "nbconvert_exporter": "python",
   "pygments_lexer": "ipython3",
   "version": "3.11.5"
  }
 },
 "nbformat": 4,
 "nbformat_minor": 5
}
