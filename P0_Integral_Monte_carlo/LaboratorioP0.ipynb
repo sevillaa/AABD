{
 "cells": [
  {
   "cell_type": "code",
   "execution_count": 5,
   "id": "7e3cd9c2-8c30-4d81-b9fc-85daf3a23565",
   "metadata": {},
   "outputs": [],
   "source": [
    "import numpy as np\n",
    "import matplotlib.pyplot as plt\n",
    "import random\n",
    "from scipy.integrate import quad\n",
    "import time\n",
    "import numpy as np"
   ]
  },
  {
   "cell_type": "code",
   "execution_count": 6,
   "id": "4ec57bad-5539-4352-8cc9-10ce9baea7ba",
   "metadata": {},
   "outputs": [
    {
     "data": {
      "text/plain": [
       "'\\n    # 5- Gráfica\\n    figura, eje = plt.subplots()\\n    eje.set_xlabel(\"X\")\\n    eje.set_ylabel(\"Y\")\\n    eje.set_xlim(a, b)\\n    eje.set_ylim(0, y_max * 1.1)\\n\\n    # Dibujar los puntos\\n    eje.scatter(x, y, marker=\\'x\\', color=\\'red\\', alpha=0.5)\\n\\n    # Dibujar la función\\n    x_vals = [i / 100 for i in range(int(a * 100), int(b * 100) + 1)]\\n    y_vals = [fun(x) for x in x_vals]\\n\\n    eje.plot(x_vals, y_vals, color=\\'blue\\', label=f\"y = {fun}\")\\n    plt.show()\\n\\n    print(f\"Integral Monte Carlo: {integral_aproximada:.4f}\")\\n'"
      ]
     },
     "execution_count": 6,
     "metadata": {},
     "output_type": "execute_result"
    }
   ],
   "source": [
    "import matplotlib.pyplot as plt\n",
    "import random\n",
    "from scipy.integrate import quad\n",
    "\n",
    "def integra_mc_sin_numpy(fun, a, b, num_puntos=10000):\n",
    "\n",
    "    # 1- Calcular el valor maximo de la función en el intervalo [a, b]\n",
    "    y_max = max(fun(x) for x in [i / 100 for i in range(int(a * 100), int(b * 100) + 1)])\n",
    "    \n",
    "\n",
    "    # 2- Generar puntos aleatorios\n",
    "    x = [random.uniform(a, b) for _ in range(num_puntos)]\n",
    "    y = [random.uniform(0, y_max) for _ in range(num_puntos)]\n",
    "\n",
    "    # 3- Contar puntos debajo de la función\n",
    "    puntos_debajo = sum(\n",
    "        1 for x_i, y_i in zip(x, y) if y_i <= fun(x_i)\n",
    "    )\n",
    "  \n",
    "\n",
    "    # 4- Calcular la integral aproximada\n",
    "    area_rectangulo = (b - a) * y_max\n",
    "    integral_aproximada = (puntos_debajo / num_puntos) * area_rectangulo\n",
    "\n",
    "    # Mostrar resultados\n",
    "   # print(f\"Integral Monte Carlo: {integral_aproximada:.4f}\")\n",
    "'''\n",
    "    # 5- Gráfica\n",
    "    figura, eje = plt.subplots()\n",
    "    eje.set_xlabel(\"X\")\n",
    "    eje.set_ylabel(\"Y\")\n",
    "    eje.set_xlim(a, b)\n",
    "    eje.set_ylim(0, y_max * 1.1)\n",
    "\n",
    "    # Dibujar los puntos\n",
    "    eje.scatter(x, y, marker='x', color='red', alpha=0.5)\n",
    "\n",
    "    # Dibujar la función\n",
    "    x_vals = [i / 100 for i in range(int(a * 100), int(b * 100) + 1)]\n",
    "    y_vals = [fun(x) for x in x_vals]\n",
    "\n",
    "    eje.plot(x_vals, y_vals, color='blue', label=f\"y = {fun}\")\n",
    "    plt.show()\n",
    "\n",
    "    print(f\"Integral Monte Carlo: {integral_aproximada:.4f}\")\n",
    "'''"
   ]
  },
  {
   "cell_type": "code",
   "execution_count": 13,
   "id": "eee59b36-20b5-4572-bdad-c08427e568fc",
   "metadata": {},
   "outputs": [
    {
     "data": {
      "text/plain": [
       "'  def integra_mc_con_numpy(fun, a, b, num_puntos=10000):\\n\\n    #Defino las x\\n    x = [random.uniform(a, b) for _ in range(num_puntos)]\\n\\n    #Vectorizas la funcion\\n    funVect = np.vectorize(fun)\\n\\n    #Para cada valor de x buscas su \"y\" y almacenas el valor máximo\\n    max1 = max(funVect(x))\\n\\n    #Defino y aleatorias para dibujar las cruces\\n    y = [random.uniform(0, max1) for _ in range(num_puntos)]\\n    \\n    #Numero cruces por debajo, comparo cada punto con el valor de la funcion en ese \"x\"\\n    puntos_debajo = np.sum(y <= funVect(x))\\n    \\n    #Calculo el área \\n    area_rectangulo = (b - a) * max1\\n    integral_aproximada = (puntos_debajo / num_puntos) * area_rectangulo\\n\\n\\n     \\n     # Mostrar resultados\\n    print(f\"Integral Monte Carlo: {integral_aproximada:.4f}\")\\n    \\n    # Grafica\\n    figura, eje = plt.subplots()\\n    eje.set_xlabel(\"X\")\\n    eje.set_ylabel(\"Y\")\\n    eje.set_xlim(a, b)\\n    eje.set_ylim(0, max1 * 1.1)\\n\\n    # Dibujar los puntos\\n    eje.scatter(x, y, marker=\\'x\\', color=\\'red\\', alpha=0.5)\\n\\n    # Dibujar la función\\n    x_vals = [i / 100 for i in range(int(a * 100), int(b * 100) + 1)]\\n    y_vals = [fun(x) for x in x_vals]\\n    eje.plot(x_vals, y_vals, color=\\'blue\\', label=f\"y = {fun}\")\\n\\n    # Mostrar la gráfica\\n    plt.show()'"
      ]
     },
     "execution_count": 13,
     "metadata": {},
     "output_type": "execute_result"
    }
   ],
   "source": [
    "'''  def integra_mc_con_numpy(fun, a, b, num_puntos=10000):\n",
    "\n",
    "    #Defino las x\n",
    "    x = [random.uniform(a, b) for _ in range(num_puntos)]\n",
    "\n",
    "    #Vectorizas la funcion\n",
    "    funVect = np.vectorize(fun)\n",
    "\n",
    "    #Para cada valor de x buscas su \"y\" y almacenas el valor máximo\n",
    "    max1 = max(funVect(x))\n",
    "\n",
    "    #Defino y aleatorias para dibujar las cruces\n",
    "    y = [random.uniform(0, max1) for _ in range(num_puntos)]\n",
    "    \n",
    "    #Numero cruces por debajo, comparo cada punto con el valor de la funcion en ese \"x\"\n",
    "    puntos_debajo = np.sum(y <= funVect(x))\n",
    "    \n",
    "    #Calculo el área \n",
    "    area_rectangulo = (b - a) * max1\n",
    "    integral_aproximada = (puntos_debajo / num_puntos) * area_rectangulo\n",
    "\n",
    "\n",
    "     \n",
    "     # Mostrar resultados\n",
    "    print(f\"Integral Monte Carlo: {integral_aproximada:.4f}\")\n",
    "    \n",
    "    # Grafica\n",
    "    figura, eje = plt.subplots()\n",
    "    eje.set_xlabel(\"X\")\n",
    "    eje.set_ylabel(\"Y\")\n",
    "    eje.set_xlim(a, b)\n",
    "    eje.set_ylim(0, max1 * 1.1)\n",
    "\n",
    "    # Dibujar los puntos\n",
    "    eje.scatter(x, y, marker='x', color='red', alpha=0.5)\n",
    "\n",
    "    # Dibujar la función\n",
    "    x_vals = [i / 100 for i in range(int(a * 100), int(b * 100) + 1)]\n",
    "    y_vals = [fun(x) for x in x_vals]\n",
    "    eje.plot(x_vals, y_vals, color='blue', label=f\"y = {fun}\")\n",
    "\n",
    "    # Mostrar la gráfica\n",
    "    plt.show()'''"
   ]
  },
  {
   "cell_type": "code",
   "execution_count": 14,
   "id": "02559a0a-4c2e-40f2-b330-baeb40e28e36",
   "metadata": {},
   "outputs": [],
   "source": [
    "import numpy as np\n",
    "import matplotlib.pyplot as plt\n",
    "\n",
    "def integra_mc_con_numpy(fun, a, b, num_puntos=10000):\n",
    "    \n",
    "    #Defino las x\n",
    "    x = np.random.uniform(a, b, num_puntos)\n",
    "    #ARRAYS de numpy + eficientes que listas\n",
    "    \n",
    "    #Para cada valor de x buscas su \"y\"  \n",
    "    y_fun = fun(x)\n",
    "    \n",
    "    # Encontrar el máximo de la función en los puntos x\n",
    "    max1 = np.max(y_fun)\n",
    "    \n",
    "    #Defino y aleatorias para dibujar las cruces\n",
    "    y = np.random.uniform(0, max1, num_puntos)\n",
    "    \n",
    "    # Contar cuántos puntos están por debajo de la función\n",
    "    puntos_debajo = np.sum(y <= y_fun)\n",
    "    \n",
    "    # Calcular el área del rectángulo\n",
    "    area_rectangulo = (b - a) * max1\n",
    "    \n",
    "    # Calcular la integral aproximada\n",
    "    integral_aproximada = (puntos_debajo / num_puntos) * area_rectangulo\n",
    "    \n",
    "    '''   \n",
    "    # Mostrar resultados\n",
    "    print(f\"Integral Monte Carlo: {integral_aproximada:.4f}\")\n",
    "    \n",
    "    # Grafica\n",
    "    figura, eje = plt.subplots()\n",
    "    eje.set_xlabel(\"X\")\n",
    "    eje.set_ylabel(\"Y\")\n",
    "    eje.set_xlim(a, b)\n",
    "    eje.set_ylim(0, max1 * 1.1)\n",
    "\n",
    "    # Dibujar los puntos\n",
    "    eje.scatter(x, y, marker='x', color='red', alpha=0.5)\n",
    "\n",
    "    # Dibujar la función\n",
    "    x_vals = [i / 100 for i in range(int(a * 100), int(b * 100) + 1)]\n",
    "    y_vals = [fun(x) for x in x_vals]\n",
    "    eje.plot(x_vals, y_vals, color='blue', label=f\"y = {fun}\")\n",
    "\n",
    "    # Mostrar la gráfica\n",
    "    plt.show()'''"
   ]
  },
  {
   "cell_type": "code",
   "execution_count": 9,
   "id": "cdd16081-d7cf-437c-8ba5-7c0900dd8f61",
   "metadata": {},
   "outputs": [],
   "source": [
    "def compara_tiempos_dot(fun1,fun2,a,b,computeFunction):\n",
    "    sizes = np.linspace(100, 10000000, 20,dtype=int)\n",
    "    times_dot = []\n",
    "    times_fast_dot = []\n",
    "    \n",
    "    for size in sizes:\n",
    "        tic = time.process_time()\n",
    "        dot = integra_mc_sin_numpy(computeFunction, a,b,size)\n",
    "        toc = time.process_time()\n",
    "        times_dot += [1000 * (toc - tic)]\n",
    "\n",
    "        tic = time.process_time()\n",
    "        fast_dot = integra_mc_con_numpy(computeFunction, a,b,size)\n",
    "        toc = time.process_time()\n",
    "        times_fast_dot += [1000 * (toc - tic)]\n",
    "        \n",
    "    plt.figure()\n",
    "    plt.scatter(sizes, times_dot, c='red', label='bucle')\n",
    "    plt.scatter(sizes, times_fast_dot, c='blue', label='vector')\n",
    "    plt.legend()\n",
    "    plt.savefig('comparatiemposdot.png')"
   ]
  },
  {
   "cell_type": "code",
   "execution_count": 10,
   "id": "22214f56-ae4b-4368-96ab-cc0cf4f9043a",
   "metadata": {},
   "outputs": [
    {
     "name": "stdout",
     "output_type": "stream",
     "text": [
      "Integral Monte Carlo: 315.7861\n",
      "Integral Monte Carlo: 343.4483\n",
      "Integral Monte Carlo: 343.4870\n",
      "Integral Monte Carlo: 343.2567\n",
      "Integral Monte Carlo: 343.2405\n",
      "Integral Monte Carlo: 343.1967\n",
      "Integral Monte Carlo: 343.0616\n",
      "Integral Monte Carlo: 342.8235\n",
      "Integral Monte Carlo: 343.1072\n",
      "Integral Monte Carlo: 342.8482\n",
      "Integral Monte Carlo: 343.1494\n",
      "Integral Monte Carlo: 343.4916\n",
      "Integral Monte Carlo: 343.3081\n",
      "Integral Monte Carlo: 343.3068\n",
      "Integral Monte Carlo: 343.3279\n",
      "Integral Monte Carlo: 343.2212\n",
      "Integral Monte Carlo: 342.9949\n",
      "Integral Monte Carlo: 343.2739\n",
      "Integral Monte Carlo: 343.3860\n",
      "Integral Monte Carlo: 343.2349\n"
     ]
    },
    {
     "data": {
      "image/png": "[encoded data removed]",
      "text/plain": [
       "<Figure size 640x480 with 1 Axes>"
      ]
     },
     "metadata": {},
     "output_type": "display_data"
    }
   ],
   "source": [
    "expr1 = (lambda x: x** 2+1) # funcion a integrar\n",
    "\n",
    "a, b = 0, 10  # limites del intervalo\n",
    "num_puntos = 10000  # puntos aleatorios\n",
    "\n",
    "compara_tiempos_dot(integra_mc_sin_numpy,integra_mc_con_numpy,a,b,expr1)"
   ]
  },
  {
   "cell_type": "code",
   "execution_count": null,
   "id": "d0e210aa-b4b6-4c21-b083-36e3dbdef338",
   "metadata": {},
   "outputs": [],
   "source": []
  },
  {
   "cell_type": "code",
   "execution_count": null,
   "id": "94a9e8ba-d442-4dbd-9ca4-543e0543a867",
   "metadata": {},
   "outputs": [],
   "source": []
  },
  {
   "cell_type": "code",
   "execution_count": null,
   "id": "fbf538b0-5cf9-49e1-95a0-ed89a46acba7",
   "metadata": {},
   "outputs": [],
   "source": []
  },
  {
   "cell_type": "code",
   "execution_count": null,
   "id": "043ea5e1-ba3e-47b8-b70d-977a5b02d1df",
   "metadata": {},
   "outputs": [],
   "source": []
  }
 ],
 "metadata": {
  "kernelspec": {
   "display_name": "Python 3 (ipykernel)",
   "language": "python",
   "name": "python3"
  },
  "language_info": {
   "codemirror_mode": {
    "name": "ipython",
    "version": 3
   },
   "file_extension": ".py",
   "mimetype": "text/x-python",
   "name": "python",
   "nbconvert_exporter": "python",
   "pygments_lexer": "ipython3",
   "version": "3.12.1"
  }
 },
 "nbformat": 4,
 "nbformat_minor": 5
}
